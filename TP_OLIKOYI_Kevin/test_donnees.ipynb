{
 "cells": [
  {
   "cell_type": "code",
   "execution_count": 11,
   "id": "cd5f69a1",
   "metadata": {},
   "outputs": [
    {
     "name": "stdout",
     "output_type": "stream",
     "text": [
      "            Name    Geogr1     Geogr2  Year Eg el abbreviation  \\\n",
      "0     NATITINGOU  1,383333  10,316667  1986                ETP   \n",
      "1     NATITINGOU  1,383333  10,316667  1986                ETP   \n",
      "2     NATITINGOU  1,383333  10,316667  1986                ETP   \n",
      "3     NATITINGOU  1,383333  10,316667  1986                ETP   \n",
      "4     NATITINGOU  1,383333  10,316667  1986                ETP   \n",
      "...          ...       ...        ...   ...                ...   \n",
      "2856  NATITINGOU  1,383333  10,316667  2016                WFF   \n",
      "2857  NATITINGOU  1,383333  10,316667  2016                WFF   \n",
      "2858  NATITINGOU  1,383333  10,316667  2016                WFF   \n",
      "2859  NATITINGOU  1,383333  10,316667  2016                WFF   \n",
      "2860  NATITINGOU  1,383333  10,316667  2016                WFF   \n",
      "\n",
      "                Name.1 Description  Month   01   02  ...   22   23   24   25  \\\n",
      "0     Eva Trans Potent          mm      1  2,6  2,1  ...  3,7  3,5  3,5    4   \n",
      "1     Eva Trans Potent          mm      2  2,8  3,2  ...  4,7  3,3  3,3  2,9   \n",
      "2     Eva Trans Potent          mm      3    3    4  ...  2,9  3,8  3,9  3,4   \n",
      "3     Eva Trans Potent          mm      4  2,8    3  ...  2,7  2,1  2,6  2,8   \n",
      "4     Eva Trans Potent          mm      5  3,5  2,9  ...    2  1,9  2,3  2,5   \n",
      "...                ...         ...    ...  ...  ...  ...  ...  ...  ...  ...   \n",
      "2856    Vit moy vent10         m/s      8  1,4    2  ...  2,6  0,8  1,4    1   \n",
      "2857    Vit moy vent10         m/s      9  0,8  0,4  ...  0,8  0,6  1,1    1   \n",
      "2858    Vit moy vent10         m/s     10  1,4  1,6  ...  1,1    1    1  0,6   \n",
      "2859    Vit moy vent10         m/s     11  1,3  1,1  ...    1    1  1,3  1,3   \n",
      "2860    Vit moy vent10         m/s     12  1,6    2  ...  1,1  1,9    2  1,9   \n",
      "\n",
      "       26   27   28   29   30   31  \n",
      "0     2,7  2,7  4,1  4,3    3  2,6  \n",
      "1     2,7  2,7    3  NaN  NaN  NaN  \n",
      "2     2,7    2    3  2,4  3,5  3,5  \n",
      "3     2,9  2,4  2,3    2  2,6  NaN  \n",
      "4     2,9  2,5  2,6  2,3  2,6  2,5  \n",
      "...   ...  ...  ...  ...  ...  ...  \n",
      "2856  0,8    2  1,8  1,5  1,1  1,3  \n",
      "2857  2,1  0,9  1,4  1,4  1,4  NaN  \n",
      "2858  0,5  0,9  1,1  0,6  0,9  1,1  \n",
      "2859  1,3  1,6  0,9  0,9  1,4  NaN  \n",
      "2860  2,8    2    2  1,1  1,4    2  \n",
      "\n",
      "[2861 rows x 39 columns]\n"
     ]
    }
   ],
   "source": [
    "import pandas as pd\n",
    "data = pd.read_csv(\"donnees_clim_parakou_nati_sav_rintio.csv\",parse_dates=[1,2])\n",
    "print(data)"
   ]
  },
  {
   "cell_type": "code",
   "execution_count": 13,
   "id": "fecd4b8e",
   "metadata": {},
   "outputs": [
    {
     "name": "stdout",
     "output_type": "stream",
     "text": [
      "         Name    Geogr1     Geogr2  Year Eg el abbreviation            Name.1  \\\n",
      "0  NATITINGOU  1,383333  10,316667  1986                ETP  Eva Trans Potent   \n",
      "1  NATITINGOU  1,383333  10,316667  1986                ETP  Eva Trans Potent   \n",
      "2  NATITINGOU  1,383333  10,316667  1986                ETP  Eva Trans Potent   \n",
      "3  NATITINGOU  1,383333  10,316667  1986                ETP  Eva Trans Potent   \n",
      "4  NATITINGOU  1,383333  10,316667  1986                ETP  Eva Trans Potent   \n",
      "\n",
      "  Description  Month   01   02  ...   22   23   24   25   26   27   28   29  \\\n",
      "0          mm      1  2,6  2,1  ...  3,7  3,5  3,5    4  2,7  2,7  4,1  4,3   \n",
      "1          mm      2  2,8  3,2  ...  4,7  3,3  3,3  2,9  2,7  2,7    3  NaN   \n",
      "2          mm      3    3    4  ...  2,9  3,8  3,9  3,4  2,7    2    3  2,4   \n",
      "3          mm      4  2,8    3  ...  2,7  2,1  2,6  2,8  2,9  2,4  2,3    2   \n",
      "4          mm      5  3,5  2,9  ...    2  1,9  2,3  2,5  2,9  2,5  2,6  2,3   \n",
      "\n",
      "    30   31  \n",
      "0    3  2,6  \n",
      "1  NaN  NaN  \n",
      "2  3,5  3,5  \n",
      "3  2,6  NaN  \n",
      "4  2,6  2,5  \n",
      "\n",
      "[5 rows x 39 columns]\n"
     ]
    }
   ],
   "source": [
    "#afficher les premières lignes du jeu de données\n",
    "print(data.head())"
   ]
  },
  {
   "cell_type": "code",
   "execution_count": 14,
   "id": "c78387aa",
   "metadata": {},
   "outputs": [
    {
     "name": "stdout",
     "output_type": "stream",
     "text": [
      "Index(['Name', 'Geogr1', 'Geogr2', 'Year', 'Eg el abbreviation', 'Name.1',\n",
      "       'Description', 'Month', '01', '02', '03', '04', '06', '07', '05', '08',\n",
      "       '09', '10', '11', '12', '13', '14', '15', '16', '17', '18', '19', '20',\n",
      "       '21', '22', '23', '24', '25', '26', '27', '28', '29', '30', '31'],\n",
      "      dtype='object')\n"
     ]
    }
   ],
   "source": [
    "#énumération des colonnes\n",
    "print(data.columns)"
   ]
  },
  {
   "cell_type": "code",
   "execution_count": 16,
   "id": "13bb78be",
   "metadata": {},
   "outputs": [
    {
     "name": "stdout",
     "output_type": "stream",
     "text": [
      "Name                  object\n",
      "Geogr1                object\n",
      "Geogr2                object\n",
      "Year                   int64\n",
      "Eg el abbreviation    object\n",
      "Name.1                object\n",
      "Description           object\n",
      "Month                  int64\n",
      "01                    object\n",
      "02                    object\n",
      "03                    object\n",
      "04                    object\n",
      "06                    object\n",
      "07                    object\n",
      "05                    object\n",
      "08                    object\n",
      "09                    object\n",
      "10                    object\n",
      "11                    object\n",
      "12                    object\n",
      "13                    object\n",
      "14                    object\n",
      "15                    object\n",
      "16                    object\n",
      "17                    object\n",
      "18                    object\n",
      "19                    object\n",
      "20                    object\n",
      "21                    object\n",
      "22                    object\n",
      "23                    object\n",
      "24                    object\n",
      "25                    object\n",
      "26                    object\n",
      "27                    object\n",
      "28                    object\n",
      "29                    object\n",
      "30                    object\n",
      "31                    object\n",
      "dtype: object\n"
     ]
    }
   ],
   "source": [
    "#type de chaque colonne\n",
    "print(data.dtypes)"
   ]
  },
  {
   "cell_type": "code",
   "execution_count": 17,
   "id": "bced96fa",
   "metadata": {},
   "outputs": [
    {
     "name": "stdout",
     "output_type": "stream",
     "text": [
      "              Name    Geogr1     Geogr2         Year Eg el abbreviation  \\\n",
      "count         2861      2861       2861  2861.000000               2861   \n",
      "unique           1         1          1          NaN                  8   \n",
      "top     NATITINGOU  1,383333  10,316667          NaN                 RR   \n",
      "freq          2861      2861       2861          NaN                384   \n",
      "mean           NaN       NaN        NaN  2000.913667                NaN   \n",
      "std            NaN       NaN        NaN     9.057078                NaN   \n",
      "min            NaN       NaN        NaN  1986.000000                NaN   \n",
      "25%            NaN       NaN        NaN  1993.000000                NaN   \n",
      "50%            NaN       NaN        NaN  2001.000000                NaN   \n",
      "75%            NaN       NaN        NaN  2009.000000                NaN   \n",
      "max            NaN       NaN        NaN  2017.000000                NaN   \n",
      "\n",
      "            Name.1 Description        Month    01    02  ...    22    23  \\\n",
      "count         2861        2861  2861.000000  2861  2861  ...  2853  2853   \n",
      "unique           8           5          NaN   406   405  ...   408   394   \n",
      "top     Pluie jour          °C          NaN     0     0  ...     0     0   \n",
      "freq           384         744          NaN   270   280  ...   273   272   \n",
      "mean           NaN         NaN     6.494233   NaN   NaN  ...   NaN   NaN   \n",
      "std            NaN         NaN     3.459514   NaN   NaN  ...   NaN   NaN   \n",
      "min            NaN         NaN     1.000000   NaN   NaN  ...   NaN   NaN   \n",
      "25%            NaN         NaN     3.000000   NaN   NaN  ...   NaN   NaN   \n",
      "50%            NaN         NaN     6.000000   NaN   NaN  ...   NaN   NaN   \n",
      "75%            NaN         NaN    10.000000   NaN   NaN  ...   NaN   NaN   \n",
      "max            NaN         NaN    12.000000   NaN   NaN  ...   NaN   NaN   \n",
      "\n",
      "          24    25    26    27    28    29    30    31  \n",
      "count   2853  2853  2853  2853  2853  2673  2610  1658  \n",
      "unique   403   404   413   406   406   401   397   375  \n",
      "top        0     0     0     0     0     0     0     0  \n",
      "freq     286   281   278   285   277   260   243   162  \n",
      "mean     NaN   NaN   NaN   NaN   NaN   NaN   NaN   NaN  \n",
      "std      NaN   NaN   NaN   NaN   NaN   NaN   NaN   NaN  \n",
      "min      NaN   NaN   NaN   NaN   NaN   NaN   NaN   NaN  \n",
      "25%      NaN   NaN   NaN   NaN   NaN   NaN   NaN   NaN  \n",
      "50%      NaN   NaN   NaN   NaN   NaN   NaN   NaN   NaN  \n",
      "75%      NaN   NaN   NaN   NaN   NaN   NaN   NaN   NaN  \n",
      "max      NaN   NaN   NaN   NaN   NaN   NaN   NaN   NaN  \n",
      "\n",
      "[11 rows x 39 columns]\n"
     ]
    }
   ],
   "source": [
    "#description des données\n",
    "print(data.describe(include='all'))"
   ]
  },
  {
   "cell_type": "code",
   "execution_count": 19,
   "id": "9ac9ffd3",
   "metadata": {},
   "outputs": [
    {
     "name": "stdout",
     "output_type": "stream",
     "text": [
      "0       10,316667\n",
      "1       10,316667\n",
      "2       10,316667\n",
      "3       10,316667\n",
      "4       10,316667\n",
      "          ...    \n",
      "2856    10,316667\n",
      "2857    10,316667\n",
      "2858    10,316667\n",
      "2859    10,316667\n",
      "2860    10,316667\n",
      "Name: Geogr2, Length: 2861, dtype: object\n"
     ]
    }
   ],
   "source": [
    "#accès à une colonne\n",
    "print(data['Geogr2'])"
   ]
  },
  {
   "cell_type": "code",
   "execution_count": 22,
   "id": "973db654",
   "metadata": {},
   "outputs": [
    {
     "data": {
      "text/plain": [
       "array([[<AxesSubplot:title={'center':'1'}>,\n",
       "        <AxesSubplot:title={'center':'2'}>,\n",
       "        <AxesSubplot:title={'center':'3'}>],\n",
       "       [<AxesSubplot:title={'center':'4'}>,\n",
       "        <AxesSubplot:title={'center':'5'}>,\n",
       "        <AxesSubplot:title={'center':'6'}>],\n",
       "       [<AxesSubplot:title={'center':'7'}>,\n",
       "        <AxesSubplot:title={'center':'8'}>,\n",
       "        <AxesSubplot:title={'center':'9'}>],\n",
       "       [<AxesSubplot:title={'center':'10'}>,\n",
       "        <AxesSubplot:title={'center':'11'}>,\n",
       "        <AxesSubplot:title={'center':'12'}>]], dtype=object)"
      ]
     },
     "execution_count": 22,
     "metadata": {},
     "output_type": "execute_result"
    },
    {
     "data": {
      "image/png": "[encoded data removed]",
      "text/plain": [
       "<Figure size 432x288 with 12 Axes>"
      ]
     },
     "metadata": {
      "needs_background": "light"
     },
     "output_type": "display_data"
    }
   ],
   "source": [
    "#histogrammes \n",
    "import matplotlib.pyplot as plt\n",
    "data.hist(column='Geogr2',by='Month')"
   ]
  },
  {
   "cell_type": "code",
   "execution_count": null,
   "id": "1f2502cb",
   "metadata": {},
   "outputs": [],
   "source": []
  }
 ],
 "metadata": {
  "kernelspec": {
   "display_name": "Python 3 (ipykernel)",
   "language": "python",
   "name": "python3"
  },
  "language_info": {
   "codemirror_mode": {
    "name": "ipython",
    "version": 3
   },
   "file_extension": ".py",
   "mimetype": "text/x-python",
   "name": "python",
   "nbconvert_exporter": "python",
   "pygments_lexer": "ipython3",
   "version": "3.8.10"
  }
 },
 "nbformat": 4,
 "nbformat_minor": 5
}
